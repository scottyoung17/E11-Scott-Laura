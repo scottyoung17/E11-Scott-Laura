{
 "cells": [
  {
   "cell_type": "code",
   "execution_count": 45,
   "id": "dfc1612a",
   "metadata": {},
   "outputs": [],
   "source": [
    "import math\n",
    "import numpy as np\n",
    "import pandas as pd\n",
    "import matplotlib.pyplot as plt\n",
    "import io\n",
    "import requests\n",
    "from scipy.stats import binom\n",
    "from scipy.stats import poisson\n",
    "from scipy.stats import norm\n",
    "import time\n",
    "import random\n",
    "from IPython import display"
   ]
  },
  {
   "cell_type": "code",
   "execution_count": 2,
   "id": "ae00ef07",
   "metadata": {},
   "outputs": [],
   "source": [
    "etchString = r'C:\\Users\\scday\\OneDrive\\Documents\\GitHub\\E11-Scott-Laura\\GPS_GUI_Data_2023-04-26_15_07_28_R.csv'\n",
    "stadiumString = r'C:\\Users\\scday\\OneDrive\\Documents\\GitHub\\E11-Scott-Laura\\GPS_GUI_Data_2023-05-03_11_22_06_R.csv'\n",
    "satherString = r'C:\\Users\\scday\\OneDrive\\Documents\\GitHub\\E11-Scott-Laura\\GPS_GUI_Data_2023-04-26_16_24_08_R.csv'\n",
    "gladeString = r'C:\\Users\\scday\\OneDrive\\Documents\\GitHub\\E11-Scott-Laura\\GPS_GUI_Data_2023-04-26_16_33_51_R.csv'"
   ]
  },
  {
   "cell_type": "code",
   "execution_count": 3,
   "id": "7d3814b8",
   "metadata": {},
   "outputs": [],
   "source": [
    "etchData = pd.read_csv(etchString)\n",
    "stadiumData = pd.read_csv(stadiumString)\n",
    "satherData = pd.read_csv(satherString)\n",
    "gladeData = pd.read_csv(gladeString)"
   ]
  },
  {
   "cell_type": "code",
   "execution_count": 4,
   "id": "aad8b81d",
   "metadata": {},
   "outputs": [
    {
     "data": {
      "text/html": [
       "<div>\n",
       "<style scoped>\n",
       "    .dataframe tbody tr th:only-of-type {\n",
       "        vertical-align: middle;\n",
       "    }\n",
       "\n",
       "    .dataframe tbody tr th {\n",
       "        vertical-align: top;\n",
       "    }\n",
       "\n",
       "    .dataframe thead th {\n",
       "        text-align: right;\n",
       "    }\n",
       "</style>\n",
       "<table border=\"1\" class=\"dataframe\">\n",
       "  <thead>\n",
       "    <tr style=\"text-align: right;\">\n",
       "      <th></th>\n",
       "      <th>Epoch time</th>\n",
       "      <th>Latitude</th>\n",
       "      <th>Longitude</th>\n",
       "      <th>Radiation (cps)</th>\n",
       "    </tr>\n",
       "  </thead>\n",
       "  <tbody>\n",
       "    <tr>\n",
       "      <th>0</th>\n",
       "      <td>1.682547e+09</td>\n",
       "      <td>37.875416</td>\n",
       "      <td>-122.258913</td>\n",
       "      <td>38.2</td>\n",
       "    </tr>\n",
       "    <tr>\n",
       "      <th>1</th>\n",
       "      <td>1.682547e+09</td>\n",
       "      <td>37.875411</td>\n",
       "      <td>-122.258909</td>\n",
       "      <td>37.6</td>\n",
       "    </tr>\n",
       "    <tr>\n",
       "      <th>2</th>\n",
       "      <td>1.682547e+09</td>\n",
       "      <td>37.875411</td>\n",
       "      <td>-122.258906</td>\n",
       "      <td>39.0</td>\n",
       "    </tr>\n",
       "    <tr>\n",
       "      <th>3</th>\n",
       "      <td>1.682547e+09</td>\n",
       "      <td>37.875398</td>\n",
       "      <td>-122.258901</td>\n",
       "      <td>35.8</td>\n",
       "    </tr>\n",
       "    <tr>\n",
       "      <th>4</th>\n",
       "      <td>1.682547e+09</td>\n",
       "      <td>37.875394</td>\n",
       "      <td>-122.258903</td>\n",
       "      <td>39.4</td>\n",
       "    </tr>\n",
       "    <tr>\n",
       "      <th>...</th>\n",
       "      <td>...</td>\n",
       "      <td>...</td>\n",
       "      <td>...</td>\n",
       "      <td>...</td>\n",
       "    </tr>\n",
       "    <tr>\n",
       "      <th>162</th>\n",
       "      <td>1.682548e+09</td>\n",
       "      <td>37.875448</td>\n",
       "      <td>-122.258888</td>\n",
       "      <td>34.4</td>\n",
       "    </tr>\n",
       "    <tr>\n",
       "      <th>163</th>\n",
       "      <td>1.682548e+09</td>\n",
       "      <td>37.875448</td>\n",
       "      <td>-122.258891</td>\n",
       "      <td>31.8</td>\n",
       "    </tr>\n",
       "    <tr>\n",
       "      <th>164</th>\n",
       "      <td>1.682548e+09</td>\n",
       "      <td>37.875446</td>\n",
       "      <td>-122.258895</td>\n",
       "      <td>38.4</td>\n",
       "    </tr>\n",
       "    <tr>\n",
       "      <th>165</th>\n",
       "      <td>1.682548e+09</td>\n",
       "      <td>37.875443</td>\n",
       "      <td>-122.258898</td>\n",
       "      <td>34.4</td>\n",
       "    </tr>\n",
       "    <tr>\n",
       "      <th>166</th>\n",
       "      <td>1.682548e+09</td>\n",
       "      <td>37.875440</td>\n",
       "      <td>-122.258900</td>\n",
       "      <td>34.2</td>\n",
       "    </tr>\n",
       "  </tbody>\n",
       "</table>\n",
       "<p>167 rows × 4 columns</p>\n",
       "</div>"
      ],
      "text/plain": [
       "       Epoch time   Latitude   Longitude  Radiation (cps)\n",
       "0    1.682547e+09  37.875416 -122.258913             38.2\n",
       "1    1.682547e+09  37.875411 -122.258909             37.6\n",
       "2    1.682547e+09  37.875411 -122.258906             39.0\n",
       "3    1.682547e+09  37.875398 -122.258901             35.8\n",
       "4    1.682547e+09  37.875394 -122.258903             39.4\n",
       "..            ...        ...         ...              ...\n",
       "162  1.682548e+09  37.875448 -122.258888             34.4\n",
       "163  1.682548e+09  37.875448 -122.258891             31.8\n",
       "164  1.682548e+09  37.875446 -122.258895             38.4\n",
       "165  1.682548e+09  37.875443 -122.258898             34.4\n",
       "166  1.682548e+09  37.875440 -122.258900             34.2\n",
       "\n",
       "[167 rows x 4 columns]"
      ]
     },
     "metadata": {},
     "output_type": "display_data"
    }
   ],
   "source": [
    "display(etchData)"
   ]
  },
  {
   "cell_type": "code",
   "execution_count": 5,
   "id": "a2bab5b3",
   "metadata": {},
   "outputs": [
    {
     "data": {
      "text/html": [
       "<div>\n",
       "<style scoped>\n",
       "    .dataframe tbody tr th:only-of-type {\n",
       "        vertical-align: middle;\n",
       "    }\n",
       "\n",
       "    .dataframe tbody tr th {\n",
       "        vertical-align: top;\n",
       "    }\n",
       "\n",
       "    .dataframe thead th {\n",
       "        text-align: right;\n",
       "    }\n",
       "</style>\n",
       "<table border=\"1\" class=\"dataframe\">\n",
       "  <thead>\n",
       "    <tr style=\"text-align: right;\">\n",
       "      <th></th>\n",
       "      <th>Epoch time</th>\n",
       "      <th>Latitude</th>\n",
       "      <th>Longitude</th>\n",
       "      <th>Radiation (cps)</th>\n",
       "    </tr>\n",
       "  </thead>\n",
       "  <tbody>\n",
       "    <tr>\n",
       "      <th>0</th>\n",
       "      <td>1.683138e+09</td>\n",
       "      <td>37.871769</td>\n",
       "      <td>-122.252231</td>\n",
       "      <td>39.0</td>\n",
       "    </tr>\n",
       "    <tr>\n",
       "      <th>1</th>\n",
       "      <td>1.683138e+09</td>\n",
       "      <td>37.871776</td>\n",
       "      <td>-122.252248</td>\n",
       "      <td>40.0</td>\n",
       "    </tr>\n",
       "    <tr>\n",
       "      <th>2</th>\n",
       "      <td>1.683138e+09</td>\n",
       "      <td>37.871719</td>\n",
       "      <td>-122.252271</td>\n",
       "      <td>34.0</td>\n",
       "    </tr>\n",
       "    <tr>\n",
       "      <th>3</th>\n",
       "      <td>1.683138e+09</td>\n",
       "      <td>37.871705</td>\n",
       "      <td>-122.252301</td>\n",
       "      <td>34.0</td>\n",
       "    </tr>\n",
       "    <tr>\n",
       "      <th>4</th>\n",
       "      <td>1.683138e+09</td>\n",
       "      <td>37.871701</td>\n",
       "      <td>-122.252321</td>\n",
       "      <td>35.4</td>\n",
       "    </tr>\n",
       "    <tr>\n",
       "      <th>...</th>\n",
       "      <td>...</td>\n",
       "      <td>...</td>\n",
       "      <td>...</td>\n",
       "      <td>...</td>\n",
       "    </tr>\n",
       "    <tr>\n",
       "      <th>158</th>\n",
       "      <td>1.683139e+09</td>\n",
       "      <td>37.871701</td>\n",
       "      <td>-122.252286</td>\n",
       "      <td>30.4</td>\n",
       "    </tr>\n",
       "    <tr>\n",
       "      <th>159</th>\n",
       "      <td>1.683139e+09</td>\n",
       "      <td>37.871701</td>\n",
       "      <td>-122.252286</td>\n",
       "      <td>30.0</td>\n",
       "    </tr>\n",
       "    <tr>\n",
       "      <th>160</th>\n",
       "      <td>1.683139e+09</td>\n",
       "      <td>37.871701</td>\n",
       "      <td>-122.252286</td>\n",
       "      <td>32.4</td>\n",
       "    </tr>\n",
       "    <tr>\n",
       "      <th>161</th>\n",
       "      <td>1.683139e+09</td>\n",
       "      <td>37.871701</td>\n",
       "      <td>-122.252284</td>\n",
       "      <td>36.6</td>\n",
       "    </tr>\n",
       "    <tr>\n",
       "      <th>162</th>\n",
       "      <td>1.683139e+09</td>\n",
       "      <td>37.871701</td>\n",
       "      <td>-122.252284</td>\n",
       "      <td>30.8</td>\n",
       "    </tr>\n",
       "  </tbody>\n",
       "</table>\n",
       "<p>163 rows × 4 columns</p>\n",
       "</div>"
      ],
      "text/plain": [
       "       Epoch time   Latitude   Longitude  Radiation (cps)\n",
       "0    1.683138e+09  37.871769 -122.252231             39.0\n",
       "1    1.683138e+09  37.871776 -122.252248             40.0\n",
       "2    1.683138e+09  37.871719 -122.252271             34.0\n",
       "3    1.683138e+09  37.871705 -122.252301             34.0\n",
       "4    1.683138e+09  37.871701 -122.252321             35.4\n",
       "..            ...        ...         ...              ...\n",
       "158  1.683139e+09  37.871701 -122.252286             30.4\n",
       "159  1.683139e+09  37.871701 -122.252286             30.0\n",
       "160  1.683139e+09  37.871701 -122.252286             32.4\n",
       "161  1.683139e+09  37.871701 -122.252284             36.6\n",
       "162  1.683139e+09  37.871701 -122.252284             30.8\n",
       "\n",
       "[163 rows x 4 columns]"
      ]
     },
     "metadata": {},
     "output_type": "display_data"
    }
   ],
   "source": [
    "display(stadiumData)"
   ]
  },
  {
   "cell_type": "code",
   "execution_count": 6,
   "id": "348e3195",
   "metadata": {},
   "outputs": [
    {
     "data": {
      "text/html": [
       "<div>\n",
       "<style scoped>\n",
       "    .dataframe tbody tr th:only-of-type {\n",
       "        vertical-align: middle;\n",
       "    }\n",
       "\n",
       "    .dataframe tbody tr th {\n",
       "        vertical-align: top;\n",
       "    }\n",
       "\n",
       "    .dataframe thead th {\n",
       "        text-align: right;\n",
       "    }\n",
       "</style>\n",
       "<table border=\"1\" class=\"dataframe\">\n",
       "  <thead>\n",
       "    <tr style=\"text-align: right;\">\n",
       "      <th></th>\n",
       "      <th>Epoch time</th>\n",
       "      <th>Latitude</th>\n",
       "      <th>Longitude</th>\n",
       "      <th>Radiation (cps)</th>\n",
       "    </tr>\n",
       "  </thead>\n",
       "  <tbody>\n",
       "    <tr>\n",
       "      <th>0</th>\n",
       "      <td>1.682551e+09</td>\n",
       "      <td>37.870285</td>\n",
       "      <td>-122.259436</td>\n",
       "      <td>37.6</td>\n",
       "    </tr>\n",
       "    <tr>\n",
       "      <th>1</th>\n",
       "      <td>1.682551e+09</td>\n",
       "      <td>37.870281</td>\n",
       "      <td>-122.259435</td>\n",
       "      <td>43.2</td>\n",
       "    </tr>\n",
       "    <tr>\n",
       "      <th>2</th>\n",
       "      <td>1.682551e+09</td>\n",
       "      <td>37.870276</td>\n",
       "      <td>-122.259433</td>\n",
       "      <td>46.6</td>\n",
       "    </tr>\n",
       "    <tr>\n",
       "      <th>3</th>\n",
       "      <td>1.682551e+09</td>\n",
       "      <td>37.870275</td>\n",
       "      <td>-122.259433</td>\n",
       "      <td>41.2</td>\n",
       "    </tr>\n",
       "    <tr>\n",
       "      <th>4</th>\n",
       "      <td>1.682551e+09</td>\n",
       "      <td>37.870275</td>\n",
       "      <td>-122.259436</td>\n",
       "      <td>41.4</td>\n",
       "    </tr>\n",
       "    <tr>\n",
       "      <th>...</th>\n",
       "      <td>...</td>\n",
       "      <td>...</td>\n",
       "      <td>...</td>\n",
       "      <td>...</td>\n",
       "    </tr>\n",
       "    <tr>\n",
       "      <th>155</th>\n",
       "      <td>1.682552e+09</td>\n",
       "      <td>37.870265</td>\n",
       "      <td>-122.259390</td>\n",
       "      <td>42.6</td>\n",
       "    </tr>\n",
       "    <tr>\n",
       "      <th>156</th>\n",
       "      <td>1.682552e+09</td>\n",
       "      <td>37.870265</td>\n",
       "      <td>-122.259390</td>\n",
       "      <td>46.0</td>\n",
       "    </tr>\n",
       "    <tr>\n",
       "      <th>157</th>\n",
       "      <td>1.682552e+09</td>\n",
       "      <td>37.870265</td>\n",
       "      <td>-122.259390</td>\n",
       "      <td>47.0</td>\n",
       "    </tr>\n",
       "    <tr>\n",
       "      <th>158</th>\n",
       "      <td>1.682552e+09</td>\n",
       "      <td>37.870265</td>\n",
       "      <td>-122.259390</td>\n",
       "      <td>48.6</td>\n",
       "    </tr>\n",
       "    <tr>\n",
       "      <th>159</th>\n",
       "      <td>1.682552e+09</td>\n",
       "      <td>37.870265</td>\n",
       "      <td>-122.259390</td>\n",
       "      <td>45.6</td>\n",
       "    </tr>\n",
       "  </tbody>\n",
       "</table>\n",
       "<p>160 rows × 4 columns</p>\n",
       "</div>"
      ],
      "text/plain": [
       "       Epoch time   Latitude   Longitude  Radiation (cps)\n",
       "0    1.682551e+09  37.870285 -122.259436             37.6\n",
       "1    1.682551e+09  37.870281 -122.259435             43.2\n",
       "2    1.682551e+09  37.870276 -122.259433             46.6\n",
       "3    1.682551e+09  37.870275 -122.259433             41.2\n",
       "4    1.682551e+09  37.870275 -122.259436             41.4\n",
       "..            ...        ...         ...              ...\n",
       "155  1.682552e+09  37.870265 -122.259390             42.6\n",
       "156  1.682552e+09  37.870265 -122.259390             46.0\n",
       "157  1.682552e+09  37.870265 -122.259390             47.0\n",
       "158  1.682552e+09  37.870265 -122.259390             48.6\n",
       "159  1.682552e+09  37.870265 -122.259390             45.6\n",
       "\n",
       "[160 rows x 4 columns]"
      ]
     },
     "metadata": {},
     "output_type": "display_data"
    }
   ],
   "source": [
    "display(satherData)"
   ]
  },
  {
   "cell_type": "code",
   "execution_count": 7,
   "id": "e88fe5b9",
   "metadata": {},
   "outputs": [
    {
     "data": {
      "text/html": [
       "<div>\n",
       "<style scoped>\n",
       "    .dataframe tbody tr th:only-of-type {\n",
       "        vertical-align: middle;\n",
       "    }\n",
       "\n",
       "    .dataframe tbody tr th {\n",
       "        vertical-align: top;\n",
       "    }\n",
       "\n",
       "    .dataframe thead th {\n",
       "        text-align: right;\n",
       "    }\n",
       "</style>\n",
       "<table border=\"1\" class=\"dataframe\">\n",
       "  <thead>\n",
       "    <tr style=\"text-align: right;\">\n",
       "      <th></th>\n",
       "      <th>Epoch time</th>\n",
       "      <th>Latitude</th>\n",
       "      <th>Longitude</th>\n",
       "      <th>Radiation (cps)</th>\n",
       "    </tr>\n",
       "  </thead>\n",
       "  <tbody>\n",
       "    <tr>\n",
       "      <th>0</th>\n",
       "      <td>1.682552e+09</td>\n",
       "      <td>37.873108</td>\n",
       "      <td>-122.259483</td>\n",
       "      <td>47.6</td>\n",
       "    </tr>\n",
       "    <tr>\n",
       "      <th>1</th>\n",
       "      <td>1.682552e+09</td>\n",
       "      <td>37.873100</td>\n",
       "      <td>-122.259483</td>\n",
       "      <td>46.2</td>\n",
       "    </tr>\n",
       "    <tr>\n",
       "      <th>2</th>\n",
       "      <td>1.682552e+09</td>\n",
       "      <td>37.873089</td>\n",
       "      <td>-122.259480</td>\n",
       "      <td>48.0</td>\n",
       "    </tr>\n",
       "    <tr>\n",
       "      <th>3</th>\n",
       "      <td>1.682552e+09</td>\n",
       "      <td>37.873081</td>\n",
       "      <td>-122.259480</td>\n",
       "      <td>50.0</td>\n",
       "    </tr>\n",
       "    <tr>\n",
       "      <th>4</th>\n",
       "      <td>1.682552e+09</td>\n",
       "      <td>37.873078</td>\n",
       "      <td>-122.259480</td>\n",
       "      <td>47.6</td>\n",
       "    </tr>\n",
       "    <tr>\n",
       "      <th>...</th>\n",
       "      <td>...</td>\n",
       "      <td>...</td>\n",
       "      <td>...</td>\n",
       "      <td>...</td>\n",
       "    </tr>\n",
       "    <tr>\n",
       "      <th>156</th>\n",
       "      <td>1.682553e+09</td>\n",
       "      <td>37.873076</td>\n",
       "      <td>-122.259455</td>\n",
       "      <td>44.6</td>\n",
       "    </tr>\n",
       "    <tr>\n",
       "      <th>157</th>\n",
       "      <td>1.682553e+09</td>\n",
       "      <td>37.873076</td>\n",
       "      <td>-122.259455</td>\n",
       "      <td>47.2</td>\n",
       "    </tr>\n",
       "    <tr>\n",
       "      <th>158</th>\n",
       "      <td>1.682553e+09</td>\n",
       "      <td>37.873076</td>\n",
       "      <td>-122.259455</td>\n",
       "      <td>46.0</td>\n",
       "    </tr>\n",
       "    <tr>\n",
       "      <th>159</th>\n",
       "      <td>1.682553e+09</td>\n",
       "      <td>37.873076</td>\n",
       "      <td>-122.259455</td>\n",
       "      <td>43.4</td>\n",
       "    </tr>\n",
       "    <tr>\n",
       "      <th>160</th>\n",
       "      <td>1.682553e+09</td>\n",
       "      <td>37.873076</td>\n",
       "      <td>-122.259455</td>\n",
       "      <td>47.8</td>\n",
       "    </tr>\n",
       "  </tbody>\n",
       "</table>\n",
       "<p>161 rows × 4 columns</p>\n",
       "</div>"
      ],
      "text/plain": [
       "       Epoch time   Latitude   Longitude  Radiation (cps)\n",
       "0    1.682552e+09  37.873108 -122.259483             47.6\n",
       "1    1.682552e+09  37.873100 -122.259483             46.2\n",
       "2    1.682552e+09  37.873089 -122.259480             48.0\n",
       "3    1.682552e+09  37.873081 -122.259480             50.0\n",
       "4    1.682552e+09  37.873078 -122.259480             47.6\n",
       "..            ...        ...         ...              ...\n",
       "156  1.682553e+09  37.873076 -122.259455             44.6\n",
       "157  1.682553e+09  37.873076 -122.259455             47.2\n",
       "158  1.682553e+09  37.873076 -122.259455             46.0\n",
       "159  1.682553e+09  37.873076 -122.259455             43.4\n",
       "160  1.682553e+09  37.873076 -122.259455             47.8\n",
       "\n",
       "[161 rows x 4 columns]"
      ]
     },
     "metadata": {},
     "output_type": "display_data"
    }
   ],
   "source": [
    "display(gladeData)"
   ]
  },
  {
   "cell_type": "code",
   "execution_count": 8,
   "id": "cf08e7d7",
   "metadata": {},
   "outputs": [
    {
     "data": {
      "text/html": [
       "<div>\n",
       "<style scoped>\n",
       "    .dataframe tbody tr th:only-of-type {\n",
       "        vertical-align: middle;\n",
       "    }\n",
       "\n",
       "    .dataframe tbody tr th {\n",
       "        vertical-align: top;\n",
       "    }\n",
       "\n",
       "    .dataframe thead th {\n",
       "        text-align: right;\n",
       "    }\n",
       "</style>\n",
       "<table border=\"1\" class=\"dataframe\">\n",
       "  <thead>\n",
       "    <tr style=\"text-align: right;\">\n",
       "      <th></th>\n",
       "      <th>Epoch time</th>\n",
       "      <th>Latitude</th>\n",
       "      <th>Longitude</th>\n",
       "      <th>Radiation (cps)</th>\n",
       "    </tr>\n",
       "  </thead>\n",
       "  <tbody>\n",
       "    <tr>\n",
       "      <th>0</th>\n",
       "      <td>1.682547e+09</td>\n",
       "      <td>37.875416</td>\n",
       "      <td>-122.258913</td>\n",
       "      <td>38.2</td>\n",
       "    </tr>\n",
       "    <tr>\n",
       "      <th>1</th>\n",
       "      <td>1.682547e+09</td>\n",
       "      <td>37.875411</td>\n",
       "      <td>-122.258909</td>\n",
       "      <td>37.6</td>\n",
       "    </tr>\n",
       "    <tr>\n",
       "      <th>2</th>\n",
       "      <td>1.682547e+09</td>\n",
       "      <td>37.875411</td>\n",
       "      <td>-122.258906</td>\n",
       "      <td>39.0</td>\n",
       "    </tr>\n",
       "    <tr>\n",
       "      <th>3</th>\n",
       "      <td>1.682547e+09</td>\n",
       "      <td>37.875398</td>\n",
       "      <td>-122.258901</td>\n",
       "      <td>35.8</td>\n",
       "    </tr>\n",
       "    <tr>\n",
       "      <th>4</th>\n",
       "      <td>1.682547e+09</td>\n",
       "      <td>37.875394</td>\n",
       "      <td>-122.258903</td>\n",
       "      <td>39.4</td>\n",
       "    </tr>\n",
       "    <tr>\n",
       "      <th>...</th>\n",
       "      <td>...</td>\n",
       "      <td>...</td>\n",
       "      <td>...</td>\n",
       "      <td>...</td>\n",
       "    </tr>\n",
       "    <tr>\n",
       "      <th>162</th>\n",
       "      <td>1.682548e+09</td>\n",
       "      <td>37.875448</td>\n",
       "      <td>-122.258888</td>\n",
       "      <td>34.4</td>\n",
       "    </tr>\n",
       "    <tr>\n",
       "      <th>163</th>\n",
       "      <td>1.682548e+09</td>\n",
       "      <td>37.875448</td>\n",
       "      <td>-122.258891</td>\n",
       "      <td>31.8</td>\n",
       "    </tr>\n",
       "    <tr>\n",
       "      <th>164</th>\n",
       "      <td>1.682548e+09</td>\n",
       "      <td>37.875446</td>\n",
       "      <td>-122.258895</td>\n",
       "      <td>38.4</td>\n",
       "    </tr>\n",
       "    <tr>\n",
       "      <th>165</th>\n",
       "      <td>1.682548e+09</td>\n",
       "      <td>37.875443</td>\n",
       "      <td>-122.258898</td>\n",
       "      <td>34.4</td>\n",
       "    </tr>\n",
       "    <tr>\n",
       "      <th>166</th>\n",
       "      <td>1.682548e+09</td>\n",
       "      <td>37.875440</td>\n",
       "      <td>-122.258900</td>\n",
       "      <td>34.2</td>\n",
       "    </tr>\n",
       "  </tbody>\n",
       "</table>\n",
       "<p>167 rows × 4 columns</p>\n",
       "</div>"
      ],
      "text/plain": [
       "       Epoch time   Latitude   Longitude  Radiation (cps)\n",
       "0    1.682547e+09  37.875416 -122.258913             38.2\n",
       "1    1.682547e+09  37.875411 -122.258909             37.6\n",
       "2    1.682547e+09  37.875411 -122.258906             39.0\n",
       "3    1.682547e+09  37.875398 -122.258901             35.8\n",
       "4    1.682547e+09  37.875394 -122.258903             39.4\n",
       "..            ...        ...         ...              ...\n",
       "162  1.682548e+09  37.875448 -122.258888             34.4\n",
       "163  1.682548e+09  37.875448 -122.258891             31.8\n",
       "164  1.682548e+09  37.875446 -122.258895             38.4\n",
       "165  1.682548e+09  37.875443 -122.258898             34.4\n",
       "166  1.682548e+09  37.875440 -122.258900             34.2\n",
       "\n",
       "[167 rows x 4 columns]"
      ]
     },
     "execution_count": 8,
     "metadata": {},
     "output_type": "execute_result"
    }
   ],
   "source": [
    "etchCPS = etchData.loc[:,'Epoch time':'Radiation(cps)']\n",
    "etchCPS"
   ]
  },
  {
   "cell_type": "code",
   "execution_count": 9,
   "id": "70f693e0",
   "metadata": {},
   "outputs": [],
   "source": [
    "stadiumCPS = stadiumData.loc[:,'Epoch time':'Radiation(cps)']"
   ]
  },
  {
   "cell_type": "code",
   "execution_count": 10,
   "id": "0f1cb1ba",
   "metadata": {},
   "outputs": [],
   "source": [
    "satherCPS = satherData.loc[:,'Epoch time':'Radiation(cps)']"
   ]
  },
  {
   "cell_type": "code",
   "execution_count": 11,
   "id": "25f74c3f",
   "metadata": {},
   "outputs": [],
   "source": [
    "gladeCPS = gladeData.loc[:,'Epoch time':'Radiation(cps)']"
   ]
  },
  {
   "cell_type": "markdown",
   "id": "1015109d",
   "metadata": {},
   "source": [
    "### MIN/MAX ETCH"
   ]
  },
  {
   "cell_type": "code",
   "execution_count": 12,
   "id": "7aee87fd",
   "metadata": {},
   "outputs": [
    {
     "name": "stdout",
     "output_type": "stream",
     "text": [
      "Epoch time         1.682547e+09\n",
      "Latitude           3.787529e+01\n",
      "Longitude         -1.222589e+02\n",
      "Radiation (cps)    2.820000e+01\n",
      "dtype: float64\n",
      "\n",
      " Epoch time         1.682548e+09\n",
      "Latitude           3.787547e+01\n",
      "Longitude         -1.222588e+02\n",
      "Radiation (cps)    4.260000e+01\n",
      "dtype: float64\n"
     ]
    }
   ],
   "source": [
    "print(etchCPS.min())\n",
    "print('\\n',etchCPS.max())"
   ]
  },
  {
   "cell_type": "code",
   "execution_count": 13,
   "id": "6443f6c5",
   "metadata": {},
   "outputs": [
    {
     "name": "stdout",
     "output_type": "stream",
     "text": [
      "34.78203592814369\n"
     ]
    }
   ],
   "source": [
    "print(etchCPS['Radiation (cps)'].mean())"
   ]
  },
  {
   "cell_type": "markdown",
   "id": "d7f5b5d9",
   "metadata": {},
   "source": [
    "### MIN/MAX STADIUM"
   ]
  },
  {
   "cell_type": "code",
   "execution_count": 14,
   "id": "d287d778",
   "metadata": {},
   "outputs": [
    {
     "name": "stdout",
     "output_type": "stream",
     "text": [
      "Epoch time         1.683138e+09\n",
      "Latitude           3.787170e+01\n",
      "Longitude         -1.222523e+02\n",
      "Radiation (cps)    2.620000e+01\n",
      "dtype: float64\n",
      "\n",
      " Epoch time         1.683139e+09\n",
      "Latitude           3.787178e+01\n",
      "Longitude         -1.222522e+02\n",
      "Radiation (cps)    4.040000e+01\n",
      "dtype: float64\n"
     ]
    }
   ],
   "source": [
    "print(stadiumCPS.min())\n",
    "print('\\n',stadiumCPS.max())"
   ]
  },
  {
   "cell_type": "code",
   "execution_count": 15,
   "id": "2ebb0b25",
   "metadata": {},
   "outputs": [
    {
     "name": "stdout",
     "output_type": "stream",
     "text": [
      "33.256441717791404\n"
     ]
    }
   ],
   "source": [
    "print(stadiumCPS['Radiation (cps)'].mean())"
   ]
  },
  {
   "cell_type": "markdown",
   "id": "dba84266",
   "metadata": {},
   "source": [
    "### MIN/MAX SATHER"
   ]
  },
  {
   "cell_type": "code",
   "execution_count": 16,
   "id": "5f223302",
   "metadata": {
    "scrolled": true
   },
   "outputs": [
    {
     "name": "stdout",
     "output_type": "stream",
     "text": [
      "Epoch time         1.682551e+09\n",
      "Latitude           3.787027e+01\n",
      "Longitude         -1.222595e+02\n",
      "Radiation (cps)    3.480000e+01\n",
      "dtype: float64\n",
      "\n",
      " Epoch time         1.682552e+09\n",
      "Latitude           3.787030e+01\n",
      "Longitude         -1.222594e+02\n",
      "Radiation (cps)    5.020000e+01\n",
      "dtype: float64\n"
     ]
    }
   ],
   "source": [
    "print(satherCPS.min())\n",
    "print('\\n',satherCPS.max())"
   ]
  },
  {
   "cell_type": "code",
   "execution_count": 17,
   "id": "d749a8b8",
   "metadata": {},
   "outputs": [
    {
     "name": "stdout",
     "output_type": "stream",
     "text": [
      "42.79374999999999\n"
     ]
    }
   ],
   "source": [
    "print(satherCPS['Radiation (cps)'].mean())"
   ]
  },
  {
   "cell_type": "markdown",
   "id": "26ad9d88",
   "metadata": {},
   "source": [
    "### MIN/MAX GLADE"
   ]
  },
  {
   "cell_type": "code",
   "execution_count": 18,
   "id": "cab6ad17",
   "metadata": {},
   "outputs": [
    {
     "name": "stdout",
     "output_type": "stream",
     "text": [
      "Epoch time         1.682552e+09\n",
      "Latitude           3.787306e+01\n",
      "Longitude         -1.222595e+02\n",
      "Radiation (cps)    3.760000e+01\n",
      "dtype: float64\n",
      "\n",
      " Epoch time         1.682553e+09\n",
      "Latitude           3.787311e+01\n",
      "Longitude         -1.222595e+02\n",
      "Radiation (cps)    5.420000e+01\n",
      "dtype: float64\n"
     ]
    }
   ],
   "source": [
    "print(gladeCPS.min())\n",
    "print('\\n',gladeCPS.max())"
   ]
  },
  {
   "cell_type": "code",
   "execution_count": 19,
   "id": "2685332a",
   "metadata": {},
   "outputs": [
    {
     "name": "stdout",
     "output_type": "stream",
     "text": [
      "45.66956521739128\n"
     ]
    }
   ],
   "source": [
    "print(gladeCPS['Radiation (cps)'].mean())"
   ]
  },
  {
   "cell_type": "code",
   "execution_count": 20,
   "id": "2a5e6ea5",
   "metadata": {},
   "outputs": [],
   "source": [
    "etchMean = etchCPS['Radiation (cps)'].mean()\n",
    "stadiumMean = stadiumCPS['Radiation (cps)'].mean()\n",
    "satherMean = satherCPS['Radiation (cps)'].mean()\n",
    "gladeMean = gladeCPS['Radiation (cps)'].mean()"
   ]
  },
  {
   "cell_type": "code",
   "execution_count": 50,
   "id": "2be5da5b",
   "metadata": {},
   "outputs": [
    {
     "data": {
      "text/plain": [
       "34.78203592814369"
      ]
     },
     "execution_count": 50,
     "metadata": {},
     "output_type": "execute_result"
    }
   ],
   "source": [
    "etchMean"
   ]
  },
  {
   "cell_type": "code",
   "execution_count": 52,
   "id": "8d2f7a29",
   "metadata": {},
   "outputs": [
    {
     "data": {
      "text/plain": [
       "2.801096991892749"
      ]
     },
     "execution_count": 52,
     "metadata": {},
     "output_type": "execute_result"
    }
   ],
   "source": [
    "etchStd = np.std(etchCPS['Radiation (cps)'])\n",
    "etchStd"
   ]
  },
  {
   "cell_type": "code",
   "execution_count": 22,
   "id": "ce980f95",
   "metadata": {},
   "outputs": [
    {
     "data": {
      "text/plain": [
       "33.256441717791404"
      ]
     },
     "execution_count": 22,
     "metadata": {},
     "output_type": "execute_result"
    }
   ],
   "source": [
    "stadiumMean"
   ]
  },
  {
   "cell_type": "code",
   "execution_count": 53,
   "id": "9f980341",
   "metadata": {},
   "outputs": [
    {
     "data": {
      "text/plain": [
       "2.8563573870713026"
      ]
     },
     "execution_count": 53,
     "metadata": {},
     "output_type": "execute_result"
    }
   ],
   "source": [
    "stadiumStd = np.std(stadiumCPS['Radiation (cps)'])\n",
    "stadiumStd"
   ]
  },
  {
   "cell_type": "code",
   "execution_count": 23,
   "id": "85c565b1",
   "metadata": {},
   "outputs": [
    {
     "data": {
      "text/plain": [
       "42.79374999999999"
      ]
     },
     "execution_count": 23,
     "metadata": {},
     "output_type": "execute_result"
    }
   ],
   "source": [
    "satherMean"
   ]
  },
  {
   "cell_type": "code",
   "execution_count": 54,
   "id": "34e3ef85",
   "metadata": {},
   "outputs": [
    {
     "data": {
      "text/plain": [
       "3.119569030731649"
      ]
     },
     "execution_count": 54,
     "metadata": {},
     "output_type": "execute_result"
    }
   ],
   "source": [
    "satherStd = np.std(satherCPS['Radiation (cps)'])\n",
    "satherStd"
   ]
  },
  {
   "cell_type": "code",
   "execution_count": 24,
   "id": "97dc39fd",
   "metadata": {},
   "outputs": [
    {
     "data": {
      "text/plain": [
       "45.66956521739128"
      ]
     },
     "execution_count": 24,
     "metadata": {},
     "output_type": "execute_result"
    }
   ],
   "source": [
    "gladeMean"
   ]
  },
  {
   "cell_type": "code",
   "execution_count": 55,
   "id": "fb4c5c30",
   "metadata": {},
   "outputs": [
    {
     "data": {
      "text/plain": [
       "2.9958365203940636"
      ]
     },
     "execution_count": 55,
     "metadata": {},
     "output_type": "execute_result"
    }
   ],
   "source": [
    "gladeStd = np.std(gladeCPS['Radiation (cps)'])\n",
    "gladeStd"
   ]
  },
  {
   "cell_type": "markdown",
   "id": "d45fed17",
   "metadata": {},
   "source": [
    "### Dose Rates"
   ]
  },
  {
   "cell_type": "code",
   "execution_count": 39,
   "id": "4c9ff050",
   "metadata": {},
   "outputs": [
    {
     "data": {
      "text/plain": [
       "21659.063622754475"
      ]
     },
     "execution_count": 39,
     "metadata": {},
     "output_type": "execute_result"
    }
   ],
   "source": [
    "etchCPM = etchMean * 60\n",
    "etchDoseRate = etchCPM * .0000427\n",
    "etchDose1= etchDoseRate * (1e-6)\n",
    "etchActivity = (etchDose1 * 70)/(3600*500*(1.6e-16))\n",
    "etchActivity"
   ]
  },
  {
   "cell_type": "code",
   "execution_count": 43,
   "id": "0bb7b880",
   "metadata": {},
   "outputs": [
    {
     "data": {
      "text/plain": [
       "20709.06339468302"
      ]
     },
     "execution_count": 43,
     "metadata": {},
     "output_type": "execute_result"
    }
   ],
   "source": [
    "stadiumCPM = stadiumMean * 60\n",
    "stadiumDoseRate = stadiumCPM * .0000427\n",
    "stadiumDose1 = stadiumDoseRate * (1e-6)\n",
    "stadiumActivity = (stadiumDose1 * 70)/(3600*500*(1.6e-16))\n",
    "stadiumActivity"
   ]
  },
  {
   "cell_type": "code",
   "execution_count": 42,
   "id": "a25f6de7",
   "metadata": {},
   "outputs": [
    {
     "data": {
      "text/plain": [
       "26648.024739583318"
      ]
     },
     "execution_count": 42,
     "metadata": {},
     "output_type": "execute_result"
    }
   ],
   "source": [
    "satherCPM = satherMean * 60\n",
    "satherDoseRate = satherCPM * .0000427\n",
    "satherDose1 = satherDoseRate * (1e-6)\n",
    "satherActivity = (satherDose1 * 70)/(3600*500*(1.6e-16))\n",
    "satherActivity"
   ]
  },
  {
   "cell_type": "code",
   "execution_count": 41,
   "id": "fde9ac4c",
   "metadata": {},
   "outputs": [
    {
     "data": {
      "text/plain": [
       "28438.81884057969"
      ]
     },
     "execution_count": 41,
     "metadata": {},
     "output_type": "execute_result"
    }
   ],
   "source": [
    "gladeCPM = gladeMean * 60\n",
    "gladeDoseRate = gladeCPM * .0000427\n",
    "gladeDose1 = gladeDoseRate * (1e-6)\n",
    "gladeActivity = (gladeDose1 * 70)/(3600*500*(1.6e-16))\n",
    "gladeActivity"
   ]
  },
  {
   "cell_type": "code",
   "execution_count": 49,
   "id": "2246b93a",
   "metadata": {},
   "outputs": [
    {
     "data": {
      "image/png": "[encoded data removed]",
      "text/plain": [
       "<Figure size 640x480 with 1 Axes>"
      ]
     },
     "metadata": {},
     "output_type": "display_data"
    }
   ],
   "source": [
    "plt.hist(etchCPS['Radiation (cps)'],label = 'Etcheverry Hall')\n",
    "plt.hist(stadiumCPS['Radiation (cps)'], label = 'CMS')\n",
    "plt.hist(satherCPS['Radiation (cps)'], label = 'Sather Gate')\n",
    "plt.hist(gladeCPS['Radiation (cps)'], label = 'Memorial Glade')\n",
    "plt.ylabel('Frequency')\n",
    "plt.xlabel('Radiation(CPS)')\n",
    "plt.legend(loc = 'upper right')\n",
    "plt.show()"
   ]
  },
  {
   "cell_type": "code",
   "execution_count": null,
   "id": "c2e7f020",
   "metadata": {},
   "outputs": [],
   "source": []
  }
 ],
 "metadata": {
  "kernelspec": {
   "display_name": "Python 3 (ipykernel)",
   "language": "python",
   "name": "python3"
  },
  "language_info": {
   "codemirror_mode": {
    "name": "ipython",
    "version": 3
   },
   "file_extension": ".py",
   "mimetype": "text/x-python",
   "name": "python",
   "nbconvert_exporter": "python",
   "pygments_lexer": "ipython3",
   "version": "3.9.13"
  }
 },
 "nbformat": 4,
 "nbformat_minor": 5
}
